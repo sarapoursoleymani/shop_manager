{
 "cells": [
  {
   "cell_type": "code",
   "execution_count": null,
   "metadata": {},
   "outputs": [],
   "source": [
    "##Question 1"
   ]
  },
  {
   "cell_type": "code",
   "execution_count": 1,
   "metadata": {},
   "outputs": [],
   "source": [
    "import random\n",
    "def guess_number_game():\n",
    "  computer_number = random.randint(100, 999)\n",
    "  attempts = 6 \n",
    "  print(\"Welcome to the number guessing game!\")\n",
    "  print(\"You have 6 attempts to guess it\")\n",
    "  while attempts > 0:\n",
    "   guess = input(f\"your guess(Remainder of attempts: {attempts}):\")\n",
    "   if not guess.isdigit() or len(guess) != 3:\n",
    "     print(\"Error Please enter a three-digit number:\")\n",
    "     continue\n",
    "   guess = int(guess)\n",
    "   if guess < computer_number:\n",
    "     print(\"Your guess is less than the correct number:\")\n",
    "   elif guess > computer_number:\n",
    "     print(\"Your guess is more than the correct number:\")\n",
    "   else:\n",
    "     print(f\"right:{computer_number}:\")\n",
    "     return\n",
    "   attempts -= 1\n",
    "   print(f\"You did not guess the correct number:{computer_number}:\")\n",
    "\n",
    "   \n",
    "   guess_number_game()"
   ]
  },
  {
   "cell_type": "code",
   "execution_count": null,
   "metadata": {},
   "outputs": [],
   "source": [
    "##Question 02"
   ]
  },
  {
   "cell_type": "code",
   "execution_count": 2,
   "metadata": {},
   "outputs": [
    {
     "name": "stdout",
     "output_type": "stream",
     "text": [
      "Total number of files with '.' extension: 0\n"
     ]
    }
   ],
   "source": [
    "import os\n",
    "def count_files_with_extension(extension):\n",
    "  desktop_path = os.path.join(os.path.expanduser('~'), 'Desktop')\n",
    "  count = 0\n",
    "  for root, dirs, files in os.walk(desktop_path):\n",
    "    for file in files:\n",
    "       if file.endswith(f'.{extension}'):\n",
    "          count += 1\n",
    "  return count\n",
    "def main():\n",
    "    extension = input(\"Enter the file extension (without dot): \").strip()\n",
    "    total_files = count_files_with_extension(extension)\n",
    "    print(f\"Total number of files with '.{extension}' extension: {total_files}\")\n",
    "if __name__ == \"__main__\":\n",
    "   main()"
   ]
  },
  {
   "cell_type": "code",
   "execution_count": null,
   "metadata": {},
   "outputs": [],
   "source": [
    "##Question 03"
   ]
  },
  {
   "cell_type": "code",
   "execution_count": 3,
   "metadata": {},
   "outputs": [
    {
     "name": "stdout",
     "output_type": "stream",
     "text": [
      "Welcome to the Product Management System!\n",
      "\n",
      "    Available commands:\n",
      "    1. add: Add a new product to the inventory.\n",
      "    2. display: Display all products.\n",
      "    3. remove: Remove a product by its unique code.\n",
      "    4. edit: Edit the name or price of a product by its unique code.\n",
      "    5. search: Search for a product by name or unique code.\n",
      "    6. summary: Display a summary of the inventory (total products and total value).\n",
      "    7. help: Display this help message.\n",
      "    8. exit: Exit the program.\n",
      "    \n",
      "Product 'b1' added successfully!\n",
      "List of Products:\n",
      "Name: b1, Price: 20000.0, Code: 125\n",
      "Exiting the program. Goodbye!\n"
     ]
    }
   ],
   "source": [
    "products = []\n",
    "def display_help():\n",
    "     print('''\n",
    "    Available commands:\n",
    "    1. add: Add a new product to the inventory.\n",
    "    2. display: Display all products.\n",
    "    3. remove: Remove a product by its unique code.\n",
    "    4. edit: Edit the name or price of a product by its unique code.\n",
    "    5. search: Search for a product by name or unique code.\n",
    "    6. summary: Display a summary of the inventory (total products and total value).\n",
    "    7. help: Display this help message.\n",
    "    8. exit: Exit the program.\n",
    "    ''')\n",
    "def add_product():\n",
    "    name = input(\"Enter product name: \")\n",
    "    price = float(input(\"Enter product price: \"))\n",
    "    code = input(\"Enter unique product code: \")\n",
    "    for product in products:\n",
    "        if product['code'] == code:\n",
    "            print(\"Error: Product with this code already exists.\")\n",
    "            return\n",
    "    products.append({\n",
    "        'name': name,\n",
    "        'price': price,\n",
    "        'code': code\n",
    "    })\n",
    "    print(f\"Product '{name}' added successfully!\")\n",
    "def display_products():\n",
    "    if not products:\n",
    "        print(\"No products available.\")\n",
    "        return\n",
    "    print(\"List of Products:\")\n",
    "    for product in products:\n",
    "        print(f\"Name: {product['name']}, Price: {product['price']}, Code: {product['code']}\")\n",
    "def remove_product():\n",
    "    code = input(\"Enter the product code to remove: \")\n",
    "    for product in products:\n",
    "        if product['code'] == code:\n",
    "            products.remove(product)\n",
    "            print(f\"Product with code '{code}' removed successfully!\")\n",
    "            return\n",
    "    print(f\"Product with code '{code}' not found.\")\n",
    "def edit_product():\n",
    "    code = input(\"Enter the product code to edit: \")\n",
    "    for product in products:\n",
    "        if product['code'] == code:\n",
    "            name = input(f\"Enter new name (current: {product['name']}): \")\n",
    "            price = float(input(f\"Enter new price (current: {product['price']}): \"))\n",
    "            product['name'] = name\n",
    "            product['price'] = price\n",
    "            print(f\"Product with code '{code}' updated successfully!\")\n",
    "            return\n",
    "    print(f\"Product with code '{code}' not found.\")\n",
    "def search_product():\n",
    "    search_term = input(\"Enter product name or code to search: \")\n",
    "    for product in products:\n",
    "        if product['code'] == search_term or product['name'] == search_term:\n",
    "            print(f\"Found product - Name: {product['name']}, Price: {product['price']}, Code: {product['code']}\")\n",
    "            return\n",
    "    print(f\"No product found with name or code '{search_term}'.\")\n",
    "def display_summary():\n",
    "    total_products = len(products)\n",
    "    total_value = sum(product['price'] for product in products)\n",
    "    \n",
    "    print(f\"Total number of products: {total_products}\")\n",
    "    print(f\"Total value of all products: ${total_value:.2f}\")\n",
    "def main():\n",
    "    print(\"Welcome to the Product Management System!\")\n",
    "    display_help()\n",
    "    while True:\n",
    "        command = input(\"\\nEnter a command: \").lower()\n",
    "        if command == \"add\":\n",
    "            add_product()\n",
    "        elif command == \"display\":\n",
    "            display_products()\n",
    "        elif command == \"remove\":\n",
    "            remove_product()\n",
    "        elif command == \"edit\":\n",
    "            edit_product()\n",
    "        elif command == \"search\":\n",
    "            search_product()\n",
    "        elif command == \"summary\":\n",
    "            display_summary()\n",
    "        elif command == \"help\":\n",
    "            display_help()\n",
    "        elif command == \"exit\":\n",
    "            print(\"Exiting the program. Goodbye!\")\n",
    "            break\n",
    "        else:\n",
    "            print(\"Invalid command. Type 'help' for a list of commands.\")\n",
    "\n",
    "if __name__ == \"__main__\":\n",
    "    main()"
   ]
  }
 ],
 "metadata": {
  "kernelspec": {
   "display_name": "Python 3",
   "language": "python",
   "name": "python3"
  },
  "language_info": {
   "codemirror_mode": {
    "name": "ipython",
    "version": 3
   },
   "file_extension": ".py",
   "mimetype": "text/x-python",
   "name": "python",
   "nbconvert_exporter": "python",
   "pygments_lexer": "ipython3",
   "version": "3.12.4"
  }
 },
 "nbformat": 4,
 "nbformat_minor": 2
}
